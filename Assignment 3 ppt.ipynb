{
 "cells": [
  {
   "cell_type": "code",
   "execution_count": 2,
   "id": "7ee175fc-9310-49c8-a746-1044a241fdf2",
   "metadata": {},
   "outputs": [
    {
     "name": "stdout",
     "output_type": "stream",
     "text": [
      "11.8\n",
      "20.2\n"
     ]
    }
   ],
   "source": [
    "# 1.Ans.\n",
    "\n",
    "import statistics\n",
    "\n",
    "Region_A = [10, 15, 12, 8, 14]\n",
    "Region_B = [18, 20, 16, 22, 25]\n",
    "\n",
    "mean_A = statistics.mean(Region_A)\n",
    "mean_B = statistics.mean(Region_B)\n",
    "\n",
    "print(mean_A)\n",
    "print(mean_B)\n"
   ]
  },
  {
   "cell_type": "code",
   "execution_count": 3,
   "id": "411430f6-3779-4f42-8e97-61582a088a8c",
   "metadata": {},
   "outputs": [
    {
     "name": "stdout",
     "output_type": "stream",
     "text": [
      "4\n"
     ]
    }
   ],
   "source": [
    "# 2.Ans.\n",
    "\n",
    "import statistics\n",
    "\n",
    "data = [4, 5, 2, 3, 5, 4, 3, 2, 4, 5]\n",
    "mode_data = statistics.mode(data)\n",
    "print(mode_data)"
   ]
  },
  {
   "cell_type": "code",
   "execution_count": 4,
   "id": "6cd10712-b415-47ee-a90d-446b7f7a572c",
   "metadata": {},
   "outputs": [
    {
     "name": "stdout",
     "output_type": "stream",
     "text": [
      "5750.0\n",
      "5500\n"
     ]
    }
   ],
   "source": [
    "# 3.Ans.\n",
    "\n",
    "import statistics\n",
    "\n",
    "Department_A =  [5000, 6000, 5500, 7000]\n",
    "Department_B =  [4500, 5500, 5800, 6000, 5200]\n",
    "\n",
    "median_A = statistics.median(Department_A)\n",
    "median_B = statistics.median(Department_B)\n",
    "\n",
    "print(median_A)\n",
    "print(median_B)\n"
   ]
  },
  {
   "cell_type": "code",
   "execution_count": 10,
   "id": "2d0b99d5-49b3-44f3-8cc5-a877d757db8a",
   "metadata": {},
   "outputs": [
    {
     "name": "stdout",
     "output_type": "stream",
     "text": [
      "1.3000000000000007\n"
     ]
    }
   ],
   "source": [
    "# 4.Ans.\n",
    "\n",
    "data = [25.5, 24.8, 26.1, 25.3, 24.9]\n",
    "\n",
    "range_data = max(data) - min(data)\n",
    "\n",
    "print(range_data)\n",
    "\n"
   ]
  },
  {
   "cell_type": "code",
   "execution_count": 13,
   "id": "ce017f4f-27b5-4801-bf03-1159c6ab4d64",
   "metadata": {},
   "outputs": [
    {
     "name": "stdout",
     "output_type": "stream",
     "text": [
      "T-Statistic: 1.4312528946642733\n",
      "P-Value: 0.19023970239078333\n"
     ]
    }
   ],
   "source": [
    "# 5.Ans.\n",
    "\n",
    "import scipy.stats as stats\n",
    "\n",
    "\n",
    "group_a = [85, 90, 92, 88, 91]\n",
    "\n",
    "\n",
    "group_b = [82, 88, 90, 86, 87]\n",
    "\n",
    "\n",
    "t_statistic, p_value = stats.ttest_ind(group_a, group_b)\n",
    "\n",
    "\n",
    "print(\"T-Statistic:\", t_statistic)\n",
    "print(\"P-Value:\", p_value)\n",
    "\n",
    "\"\"\"\n",
    "In other words, based on the t-test results, we do not have sufficient evidence to suggest that the \n",
    "two teaching methods have significantly different effects on the students' test scores.\n",
    "\"\"\"\n"
   ]
  },
  {
   "cell_type": "code",
   "execution_count": 16,
   "id": "5c2b6fa6-ce8b-4a5d-84ac-3dae2c88bcb2",
   "metadata": {},
   "outputs": [
    {
     "name": "stdout",
     "output_type": "stream",
     "text": [
      "PearsonRResult(statistic=0.8757511375750133, pvalue=0.05158319418821717)\n"
     ]
    }
   ],
   "source": [
    "# 6.Ans.\n",
    "\n",
    "import numpy as np\n",
    "import scipy.stats\n",
    "\n",
    "x = np.array([10, 15, 12, 8, 14])\n",
    "y = np.array([25, 30, 28, 20, 26])\n",
    "\n",
    "print(scipy.stats.pearsonr(x,y))\n"
   ]
  },
  {
   "cell_type": "code",
   "execution_count": 17,
   "id": "48c8c73b-20ff-4b1d-8cba-71baf71ae9d3",
   "metadata": {},
   "outputs": [
    {
     "name": "stdout",
     "output_type": "stream",
     "text": [
      "8.591246929842246\n"
     ]
    }
   ],
   "source": [
    "# 7.Ans.\n",
    "\n",
    "import statistics\n",
    "\n",
    "data = [160, 170, 165, 155, 175, 180, 170]\n",
    "\n",
    "print(statistics.stdev(data))\n"
   ]
  },
  {
   "cell_type": "code",
   "execution_count": 19,
   "id": "9327aa93-a6e8-41b5-aa8b-92425d75f2b3",
   "metadata": {},
   "outputs": [
    {
     "data": {
      "image/png": "[encoded data removed]",
      "text/plain": [
       "<Figure size 640x480 with 1 Axes>"
      ]
     },
     "metadata": {},
     "output_type": "display_data"
    }
   ],
   "source": [
    "# 8.Ans.\n",
    "\n",
    "import numpy as np\n",
    "import matplotlib.pyplot as plt\n",
    "from sklearn.linear_model import LinearRegression\n",
    "\n",
    "tenure = [2, 3, 5, 4, 6, 2, 4]\n",
    "satisfaction = [7, 8, 6, 9, 5, 7, 6]\n",
    "\n",
    "X = np.array(tenure).reshape(-1, 1)\n",
    "Y = np.array(satisfaction)\n",
    "model = LinearRegression()\n",
    "model.fit(X, Y)\n",
    "slope = model.coef_[0]\n",
    "intercept = model.intercept_\n",
    "new_tenure = np.array([3, 4, 7]).reshape(-1, 1)\n",
    "predictions = model.predict(new_tenure)\n",
    "\n",
    "plt.scatter(X, Y)\n",
    "plt.plot(X, model.predict(X), color='red')\n",
    "plt.xlabel('Employee Tenure (years)')\n",
    "plt.ylabel('Job Satisfaction')\n",
    "plt.show()\n",
    "\n",
    "    "
   ]
  },
  {
   "cell_type": "code",
   "execution_count": 20,
   "id": "3e980e71-ee05-4251-a66a-60ac672bdf0d",
   "metadata": {},
   "outputs": [
    {
     "data": {
      "text/plain": [
       "F_onewayResult(statistic=16.0, pvalue=0.003949772803445326)"
      ]
     },
     "execution_count": 20,
     "metadata": {},
     "output_type": "execute_result"
    }
   ],
   "source": [
    "# 9.Ans.\n",
    "\n",
    "from scipy.stats import f_oneway\n",
    "\n",
    "Medication_A =  [10, 12, 14, 11, 13]\n",
    "Medication_B =  [15, 17, 16, 14, 18]\n",
    "\n",
    "f_oneway(Medication_A,Medication_B)\n"
   ]
  },
  {
   "cell_type": "code",
   "execution_count": 21,
   "id": "78677ae2-4799-43db-8ac0-ad18c4638dd3",
   "metadata": {},
   "outputs": [
    {
     "name": "stdout",
     "output_type": "stream",
     "text": [
      "8.75\n"
     ]
    }
   ],
   "source": [
    "# 10.Ans.\n",
    "\n",
    "import numpy as np\n",
    "\n",
    "data = [8, 9, 7, 6, 8, 10, 9, 8, 7, 8]\n",
    "\n",
    "print(np.percentile(data,75))"
   ]
  },
  {
   "cell_type": "code",
   "execution_count": 22,
   "id": "f7e80f60-2531-46c5-a19b-720bbb947b0e",
   "metadata": {},
   "outputs": [
    {
     "name": "stdout",
     "output_type": "stream",
     "text": [
      "T-Statistic: 1.5126584522688367\n",
      "P-Value: 0.19077595151110102\n"
     ]
    }
   ],
   "source": [
    "# 11.Ans.\n",
    "\n",
    "from scipy.stats import ttest_1samp\n",
    "\n",
    "weights = [10.2, 9.8, 10.0, 10.5, 10.3, 10.1]\n",
    "differWeights = 10\n",
    "\n",
    "t_statistic,p_value = ttest_1samp(weights,differWeights)\n",
    "\n",
    "print(\"T-Statistic:\", t_statistic)\n",
    "print(\"P-Value:\", p_value)"
   ]
  },
  {
   "cell_type": "code",
   "execution_count": 26,
   "id": "dda5ea68-ce72-4a3b-9cc6-b51e64b08281",
   "metadata": {},
   "outputs": [
    {
     "name": "stdout",
     "output_type": "stream",
     "text": [
      "Chi-Square Statistic: 6.110658166925435\n",
      "P-Value: 0.19077595151110102\n",
      "Degrees of Freedom: 4\n",
      "Expected Frequencies:\n",
      " [[ 96.06217617 109.40414508 106.7357513   98.73056995 104.06735751]\n",
      " [ 83.93782383  95.59585492  93.2642487   86.26943005  90.93264249]]\n"
     ]
    }
   ],
   "source": [
    "# 12.Ans.\n",
    "\n",
    "from scipy.stats import chi2_contingency\n",
    "\n",
    "Design_A_B = [[100, 120, 110, 90, 95],[80, 85, 90, 95, 100]]\n",
    "\n",
    "stat, p, dof, expected = chi2_contingency(Design_A_B)\n",
    "\n",
    "print(\"Chi-Square Statistic:\", stat)\n",
    "print(\"P-Value:\", p_value)\n",
    "print(\"Degrees of Freedom:\", dof)\n",
    "print(\"Expected Frequencies:\\n\", expected)\n",
    "\n",
    "\n",
    "\n"
   ]
  },
  {
   "cell_type": "code",
   "execution_count": 28,
   "id": "0da98e83-c7b0-4fac-8f68-17fd5811bb75",
   "metadata": {},
   "outputs": [
    {
     "name": "stderr",
     "output_type": "stream",
     "text": [
      "/tmp/ipykernel_113/2377328949.py:9: DeprecationWarning: Use of keyword argument `alpha` for method `interval` is deprecated. Use first positional argument or keyword argument `confidence` instead.\n",
      "  st.t.interval(alpha=0.95, df=len(data)-1,\n"
     ]
    },
    {
     "data": {
      "text/plain": [
       "(7.043561120599888, 8.756438879400113)"
      ]
     },
     "execution_count": 28,
     "metadata": {},
     "output_type": "execute_result"
    }
   ],
   "source": [
    "# 13.Ans.\n",
    "\n",
    "import numpy as np\n",
    "import scipy.stats as st\n",
    "\n",
    "\n",
    "data = [7, 9, 6, 8, 10, 7, 8, 9, 7, 8]\n",
    "\n",
    "st.t.interval(alpha=0.95, df=len(data)-1,\n",
    "\t\t\tloc=np.mean(data),\n",
    "\t\t\tscale=st.sem(data))\n"
   ]
  },
  {
   "cell_type": "code",
   "execution_count": 38,
   "id": "baedb7ed-8ab8-42c3-96e9-b1df05501b88",
   "metadata": {},
   "outputs": [
    {
     "data": {
      "image/png": "[encoded data removed]",
      "text/plain": [
       "<Figure size 640x480 with 1 Axes>"
      ]
     },
     "metadata": {},
     "output_type": "display_data"
    }
   ],
   "source": [
    "# 14.Ans.\n",
    "\n",
    "import numpy as np\n",
    "import matplotlib.pyplot as plt\n",
    "from sklearn.linear_model import LinearRegression\n",
    "\n",
    "Temperature =  [20, 22, 23, 19, 21]\n",
    "Performance =  [8, 7, 9, 6, 8]\n",
    "\n",
    "X = np.array(Temperature).reshape(-1, 1)\n",
    "Y = np.array(Performance)\n",
    "model = LinearRegression()\n",
    "model.fit(X, Y)\n",
    "slope = model.coef_[0]\n",
    "intercept = model.intercept_\n",
    "new_temperature = np.array([17,18,21]).reshape(-1, 1)\n",
    "perfr = model.predict(new_tenure)\n",
    "\n",
    "plt.scatter(X, Y)\n",
    "plt.plot(X, model.predict(X), color='red')\n",
    "plt.xlabel('Temperature_celsius')\n",
    "plt.ylabel('Performance')\n",
    "plt.show()\n",
    "\n",
    "\n"
   ]
  },
  {
   "cell_type": "code",
   "execution_count": 32,
   "id": "56bf4233-dd08-4637-94ef-1a1ebf8eb78f",
   "metadata": {},
   "outputs": [
    {
     "name": "stdout",
     "output_type": "stream",
     "text": [
      "Mann-Whitney U statistic: 17.0\n",
      "P-Value: 0.380836480306712\n"
     ]
    }
   ],
   "source": [
    "# 15.Ans.\n",
    "\n",
    "from scipy.stats import mannwhitneyu\n",
    "\n",
    "Group_A = [4, 3, 5, 2, 4]\n",
    "Group_B =  [3, 2, 4, 3, 3]\n",
    "\n",
    "statistics , p_value = mannwhitneyu(Group_A,Group_B)\n",
    "\n",
    "print(\"Mann-Whitney U statistic:\", statistics)\n",
    "print(\"P-Value:\", p_value)\n"
   ]
  },
  {
   "cell_type": "code",
   "execution_count": 33,
   "id": "fabd5c62-c84d-4819-bf34-7b7047551657",
   "metadata": {},
   "outputs": [
    {
     "name": "stdout",
     "output_type": "stream",
     "text": [
      "20.0\n"
     ]
    }
   ],
   "source": [
    "# 16.Ans.\n",
    "\n",
    "from scipy import stats\n",
    "\n",
    "data = [25, 30, 35, 40, 45, 50, 55, 60, 65, 70]\n",
    "\n",
    "IQR = stats.iqr(data, interpolation='midpoint')\n",
    "\n",
    "print(IQR)\n",
    "\n"
   ]
  },
  {
   "cell_type": "code",
   "execution_count": 34,
   "id": "d58de43c-fe4d-4e5b-a1c4-0a3b802ffa13",
   "metadata": {},
   "outputs": [
    {
     "name": "stdout",
     "output_type": "stream",
     "text": [
      "Kruskal statistic: 9.696947935368053\n",
      "P-Value: 0.007840333026249539\n"
     ]
    }
   ],
   "source": [
    "# 17.Ans.\n",
    "\n",
    "from scipy.stats import kruskal\n",
    "\n",
    "Algorithm_A =  [0.85, 0.80, 0.82, 0.87, 0.83]\n",
    "Algorithm_B =  [0.78, 0.82, 0.84, 0.80, 0.79]\n",
    "Algorithm_C =  [0.90, 0.88, 0.89, 0.86, 0.87]\n",
    "\n",
    "statistics , p_value = kruskal(Algorithm_A,Algorithm_B,Algorithm_C)\n",
    "\n",
    "print(\"Kruskal statistic:\", statistics)\n",
    "print(\"P-Value:\", p_value)\n",
    "\n"
   ]
  },
  {
   "cell_type": "code",
   "execution_count": 39,
   "id": "b3b86beb-09f5-41b1-9ad9-3b2eab2608c6",
   "metadata": {},
   "outputs": [
    {
     "data": {
      "image/png": "[encoded data removed]",
      "text/plain": [
       "<Figure size 640x480 with 1 Axes>"
      ]
     },
     "metadata": {},
     "output_type": "display_data"
    }
   ],
   "source": [
    "# 18.Ans.\n",
    "\n",
    "import numpy as np\n",
    "import matplotlib.pyplot as plt\n",
    "from sklearn.linear_model import LinearRegression\n",
    "\n",
    "Price =  [10, 15, 12, 8, 14]\n",
    "Sales =  [100, 80, 90, 110, 95]\n",
    "\n",
    "X = np.array(Price).reshape(-1, 1)\n",
    "Y = np.array(Sales)\n",
    "model = LinearRegression()\n",
    "model.fit(X, Y)\n",
    "slope = model.coef_[0]\n",
    "intercept = model.intercept_\n",
    "new_price = np.array([9,11,13]).reshape(-1, 1)\n",
    "sale = model.predict(new_tenure)\n",
    "\n",
    "plt.scatter(X, Y)\n",
    "plt.plot(X, model.predict(X), color='red')\n",
    "plt.xlabel('Price in dollar')\n",
    "plt.ylabel('Sales')\n",
    "plt.show()\n"
   ]
  },
  {
   "cell_type": "code",
   "execution_count": 36,
   "id": "aecf3457-e0ca-428f-898a-fa4164867dcf",
   "metadata": {},
   "outputs": [
    {
     "name": "stdout",
     "output_type": "stream",
     "text": [
      "0.30550504633038933\n"
     ]
    }
   ],
   "source": [
    "# 19.Ans.\n",
    "\n",
    "from scipy.stats import sem\n",
    "\n",
    "data = [7, 8, 9, 6, 8, 7, 9, 7, 8, 7]\n",
    "\n",
    "print(sem(data))"
   ]
  },
  {
   "cell_type": "code",
   "execution_count": 40,
   "id": "cd80adb5-8a77-45a1-895f-b2294c219434",
   "metadata": {},
   "outputs": [
    {
     "name": "stdout",
     "output_type": "stream",
     "text": [
      "                            OLS Regression Results                            \n",
      "==============================================================================\n",
      "Dep. Variable:                      y   R-squared:                       0.767\n",
      "Model:                            OLS   Adj. R-squared:                  0.689\n",
      "Method:                 Least Squares   F-statistic:                     9.872\n",
      "Date:                Sun, 09 Jul 2023   Prob (F-statistic):             0.0516\n",
      "Time:                        13:00:15   Log-Likelihood:                -9.5288\n",
      "No. Observations:                   5   AIC:                             23.06\n",
      "Df Residuals:                       3   BIC:                             22.28\n",
      "Df Model:                           1                                         \n",
      "Covariance Type:            nonrobust                                         \n",
      "==============================================================================\n",
      "                 coef    std err          t      P>|t|      [0.025      0.975]\n",
      "------------------------------------------------------------------------------\n",
      "const         12.2012      4.429      2.755      0.070      -1.893      26.296\n",
      "x1             1.1524      0.367      3.142      0.052      -0.015       2.320\n",
      "==============================================================================\n",
      "Omnibus:                          nan   Durbin-Watson:                   1.136\n",
      "Prob(Omnibus):                    nan   Jarque-Bera (JB):                0.546\n",
      "Skew:                          -0.267   Prob(JB):                        0.761\n",
      "Kurtosis:                       1.471   Cond. No.                         57.3\n",
      "==============================================================================\n",
      "\n",
      "Notes:\n",
      "[1] Standard Errors assume that the covariance matrix of the errors is correctly specified.\n"
     ]
    },
    {
     "name": "stderr",
     "output_type": "stream",
     "text": [
      "/opt/conda/lib/python3.10/site-packages/statsmodels/stats/stattools.py:74: ValueWarning: omni_normtest is not valid with less than 8 observations; 5 samples were given.\n",
      "  warn(\"omni_normtest is not valid with less than 8 observations; %i \"\n"
     ]
    }
   ],
   "source": [
    "# 20.Ans.\n",
    "\n",
    "import numpy as np\n",
    "import statsmodels.api as sm\n",
    "\n",
    "expenditure = [10, 15, 12, 8, 14]\n",
    "sales = [25, 30, 28, 20, 26]\n",
    "\n",
    "X = sm.add_constant(expenditure)\n",
    "model = sm.OLS(sales, X)\n",
    "results = model.fit()\n",
    "print(results.summary())\n",
    "\n"
   ]
  },
  {
   "cell_type": "code",
   "execution_count": null,
   "id": "b61685b3-9722-415a-b740-ecb167a4b4a4",
   "metadata": {},
   "outputs": [],
   "source": []
  }
 ],
 "metadata": {
  "kernelspec": {
   "display_name": "Python 3 (ipykernel)",
   "language": "python",
   "name": "python3"
  },
  "language_info": {
   "codemirror_mode": {
    "name": "ipython",
    "version": 3
   },
   "file_extension": ".py",
   "mimetype": "text/x-python",
   "name": "python",
   "nbconvert_exporter": "python",
   "pygments_lexer": "ipython3",
   "version": "3.10.6"
  }
 },
 "nbformat": 4,
 "nbformat_minor": 5
}
